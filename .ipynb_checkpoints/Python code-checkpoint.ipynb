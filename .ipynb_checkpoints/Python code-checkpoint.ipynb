{
 "cells": [
  {
   "cell_type": "markdown",
   "id": "7758e288",
   "metadata": {},
   "source": [
    "### Python assignment : Completing Dr. X's codes (translate nucleotide bases = amino acids, visualizing data)"
   ]
  },
  {
   "cell_type": "code",
   "execution_count": 1,
   "id": "2ac02c44",
   "metadata": {
    "scrolled": false
   },
   "outputs": [
    {
     "name": "stdout",
     "output_type": "stream",
     "text": [
      "Collecting package metadata (current_repodata.json): ...working... done\n",
      "Solving environment: ...working... done\n",
      "\n",
      "# All requested packages already installed.\n",
      "\n",
      "\n",
      "Note: you may need to restart the kernel to use updated packages.\n"
     ]
    }
   ],
   "source": [
    "conda install biopython"
   ]
  },
  {
   "cell_type": "code",
   "execution_count": 2,
   "id": "4eb3215a",
   "metadata": {},
   "outputs": [],
   "source": [
    "import Bio\n",
    "from Bio import SeqIO\n",
    "from Bio.SeqRecord import SeqRecord #addional package\n",
    "from Bio.Data import CodonTable\n",
    "import pandas as pd\n",
    "from Bio.SeqUtils.ProtParam import ProteinAnalysis\n",
    "from Bio.SeqUtils import GC\n",
    "import seaborn as sns\n",
    "import matplotlib.pyplot as plt\n",
    "sns.set(style=\"ticks\", color_codes=True)\n",
    "%matplotlib inline"
   ]
  },
  {
   "cell_type": "markdown",
   "id": "655b3839",
   "metadata": {},
   "source": [
    "#### 1\n",
    "#### Function to get sequence"
   ]
  },
  {
   "cell_type": "code",
   "execution_count": 3,
   "id": "92c25e75",
   "metadata": {},
   "outputs": [],
   "source": [
    "def get_sequences_from_file(fasta_fn):\n",
    "    sequence_data_dict = {}\n",
    "    for record in SeqIO.parse(fasta_fn, \"fasta\"):\n",
    "        description = record.description.split()\n",
    "        species_name = description[1] + \" \" + description[2]\n",
    "        sequence_data_dict[species_name] = record.seq\n",
    "    return(sequence_data_dict)"
   ]
  },
  {
   "cell_type": "markdown",
   "id": "ecc23e7b",
   "metadata": {},
   "source": [
    "#### Start inspecting the file \"penguins_cytb.fasta\""
   ]
  },
  {
   "cell_type": "code",
   "execution_count": 4,
   "id": "6c507f05",
   "metadata": {},
   "outputs": [],
   "source": [
    "Penguin_seq = SeqIO.parse('penguins_cytb.fasta', 'fasta') # reads the sequences and assigns them to \"Penguin_seq\""
   ]
  },
  {
   "cell_type": "markdown",
   "id": "8c71c076",
   "metadata": {},
   "source": [
    "Print the number of sequences present in the fasta file"
   ]
  },
  {
   "cell_type": "code",
   "execution_count": 5,
   "id": "b53c447f",
   "metadata": {},
   "outputs": [
    {
     "data": {
      "text/plain": [
       "12"
      ]
     },
     "execution_count": 5,
     "metadata": {},
     "output_type": "execute_result"
    }
   ],
   "source": [
    "count = 0\n",
    "for record in Penguin_seq:\n",
    "    count +=1\n",
    "count"
   ]
  },
  {
   "cell_type": "code",
   "execution_count": 6,
   "id": "c1b67fce",
   "metadata": {},
   "outputs": [
    {
     "name": "stdout",
     "output_type": "stream",
     "text": [
      "AB026282\n",
      "AB026282 Aptenodytes forsteri mitochondrial gene for cytochrome b, complete cds, haplotype:a\n",
      "Seq('ATGGCCCCAAATCTCCGAAAATCCCATCCCCTCCTAAAAATAATTAATAACTCC...TAA')\n",
      "1143\n",
      "AF076044\n",
      "AF076044 Aptenodytes patagonicus cytochrome b (cytb) gene, mitochondrial gene encoding mitochondrial protein, complete cds\n",
      "Seq('ATGGCCCCAAACCTCCGAAAATCCCATCCTCTCCTAAAAATAATTAATAACTCC...TAA')\n",
      "1143\n",
      "AF076051\n",
      "AF076051 Eudyptes chrysocome cytochrome b (cytb) gene, mitochondrial gene encoding mitochondrial protein, complete cds\n",
      "Seq('ATGGCCCCCAACCTCCGAAAATCCCACCCCCTCCTAAAAACAATCAATAACTCC...TAA')\n",
      "1143\n",
      "AF076052\n",
      "AF076052 Eudyptes chrysolophus cytochrome b (cytb) gene, mitochondrial gene encoding mitochondrial protein, complete cds\n",
      "Seq('ATGGCCCCCAACCTCCGAAAATCCCACCCCCTCCTAAAAACAATCAATAACTCC...TAA')\n",
      "1143\n",
      "AB026277\n",
      "AB026277 Eudyptes sclateri mitochondrial gene for cytochrome b, complete cds\n",
      "Seq('ATGGCCCCCAACCTCCGAAAATCCCACCCCCTCCTAAAAACAATCAATAACTCC...TAA')\n",
      "1143\n",
      "AB026278\n",
      "AB026278 Eudyptula minor mitochondrial gene for cytochrome b, complete cds\n",
      "Seq('ATGGCCCCCAACCTCCGAAAATCTCACCCCCTCCTAAAAATAATCAACAACTCT...TAA')\n",
      "1143\n",
      "AB066603\n",
      "AB066603 Pygoscelis adeliae mitochondrial gene for cytochrome b, complete cds, haplotype:c\n",
      "Seq('ATGGCCCCCAACCTCCGAAAATCCCACCCTCTCCTAAAAATAATTAACAACTCC...TAA')\n",
      "1143\n",
      "AF076089\n",
      "AF076089 Pygoscelis antarctica cytochrome b (cytb) gene, mitochondrial gene encoding mitochondrial protein, complete cds\n",
      "Seq('ATGGCCCCCAACCTCCGAAAATCCCACCCTCTCCTAAAAATAATCAACAACTCC...TAG')\n",
      "1143\n",
      "AF076090\n",
      "AF076090 Pygoscelis papua cytochrome b (cytb) gene, mitochondrial gene encoding mitochondrial protein, complete cds\n",
      "Seq('ATGGCCCCCAACCTTCGAAAATCCCACCCTCTCCTAAAAATAATCAACAAATCC...TAG')\n",
      "1143\n",
      "AB026269\n",
      "AB026269 Spheniscus demersus mitochondrial gene for cytochrome b, complete cds\n",
      "Seq('ATGGCCCCCAACCTCCGAAAATCCCACCCTCTCCTAAAAACAATCAACAACTCC...TAA')\n",
      "1143\n",
      "AB026271\n",
      "AB026271 Spheniscus humboldti mitochondrial gene for cytochrome b, complete cds, haplotype:a\n",
      "Seq('ATGGCCCCCAACCTCCGAAAATCCCACCCTCTCCTAAAAACAATCAACAACTCC...TAA')\n",
      "1143\n",
      "AB026270\n",
      "AB026270 Spheniscus magellanicus mitochondrial gene for cytochrome b, complete cds\n",
      "Seq('ATGGCCCCCAACCTCCGAAAATCCCACCCTCTCCTAAAAACAATCAACAACTCC...TAA')\n",
      "1143\n"
     ]
    }
   ],
   "source": [
    "for Penguin_seq in SeqIO.parse('penguins_cytb.fasta', 'fasta'): #print the seq ID, description, part of the sequence and length\n",
    "    print(Penguin_seq.id)  \n",
    "    print(Penguin_seq.description)\n",
    "    print(repr(Penguin_seq.seq)) \n",
    "    print(len(Penguin_seq))  "
   ]
  },
  {
   "cell_type": "markdown",
   "id": "85ffede3",
   "metadata": {},
   "source": [
    "####2\n",
    "#### Translate string function\n",
    "#### translates sequences to amino acids\n",
    "#### All sequences start at codon position 1"
   ]
  },
  {
   "cell_type": "code",
   "execution_count": 7,
   "id": "72b93269",
   "metadata": {},
   "outputs": [],
   "source": [
    "## create string_translate function\n",
    "\n",
    "def translate_function(string_nuc): \n",
    "    mito_table = CodonTable.unambiguous_dna_by_name[\"Vertebrate Mitochondrial\"] \n",
    "    aa_string = [] # empty amino acid list\n",
    "    for nuc in range(0, len(string_nuc),3):\n",
    "        codon = string_nuc[nuc:nuc +3]\n",
    "        \n",
    "        if codon == 'AGA' or codon == 'AGG'  or codon == 'TAA' or codon == 'TAG': #This lines checks for stop codons\n",
    "            break #stops once it encounters stop codons \n",
    "        else:\n",
    "            aa = mito_table.forward_table[codon] #extracts the amino acid from table\n",
    "            aa_string.append(aa) # this adds the aa to aa_seq_string       \n",
    "       \n",
    "    return \"\".join(aa_string) #returns a string of sequence"
   ]
  },
  {
   "cell_type": "code",
   "execution_count": 8,
   "id": "695754d5",
   "metadata": {},
   "outputs": [
    {
     "name": "stdout",
     "output_type": "stream",
     "text": [
      "Table 2 Vertebrate Mitochondrial, SGC1\n",
      "\n",
      "  |  T      |  C      |  A      |  G      |\n",
      "--+---------+---------+---------+---------+--\n",
      "T | TTT F   | TCT S   | TAT Y   | TGT C   | T\n",
      "T | TTC F   | TCC S   | TAC Y   | TGC C   | C\n",
      "T | TTA L   | TCA S   | TAA Stop| TGA W   | A\n",
      "T | TTG L   | TCG S   | TAG Stop| TGG W   | G\n",
      "--+---------+---------+---------+---------+--\n",
      "C | CTT L   | CCT P   | CAT H   | CGT R   | T\n",
      "C | CTC L   | CCC P   | CAC H   | CGC R   | C\n",
      "C | CTA L   | CCA P   | CAA Q   | CGA R   | A\n",
      "C | CTG L   | CCG P   | CAG Q   | CGG R   | G\n",
      "--+---------+---------+---------+---------+--\n",
      "A | ATT I(s)| ACT T   | AAT N   | AGT S   | T\n",
      "A | ATC I(s)| ACC T   | AAC N   | AGC S   | C\n",
      "A | ATA M(s)| ACA T   | AAA K   | AGA Stop| A\n",
      "A | ATG M(s)| ACG T   | AAG K   | AGG Stop| G\n",
      "--+---------+---------+---------+---------+--\n",
      "G | GTT V   | GCT A   | GAT D   | GGT G   | T\n",
      "G | GTC V   | GCC A   | GAC D   | GGC G   | C\n",
      "G | GTA V   | GCA A   | GAA E   | GGA G   | A\n",
      "G | GTG V(s)| GCG A   | GAG E   | GGG G   | G\n",
      "--+---------+---------+---------+---------+--\n"
     ]
    }
   ],
   "source": [
    "mito_table = CodonTable.unambiguous_dna_by_name[\"Vertebrate Mitochondrial\"] \n",
    "print(mito_table)"
   ]
  },
  {
   "cell_type": "markdown",
   "id": "906468d6",
   "metadata": {},
   "source": [
    "#### 3\n",
    "#### Aternate way to translate the sequences to amino acid codons"
   ]
  },
  {
   "cell_type": "code",
   "execution_count": 9,
   "id": "20e2e7b8",
   "metadata": {},
   "outputs": [],
   "source": [
    "def translate(string_nuc):\n",
    "    amino_acid = string_nuc.translate(table=2, to_stop=T)\n",
    "    return str(amino_acid) "
   ]
  },
  {
   "cell_type": "markdown",
   "id": "31db7cd3",
   "metadata": {},
   "source": [
    "#### 4\n",
    "#### AA ANALYSIS FUNCTION\n",
    "#### using 'from Bio.SeqUtils.ProtParam import ProteinAnalysis'\n",
    "#### computing molecular weight of amino acids"
   ]
  },
  {
   "cell_type": "code",
   "execution_count": 10,
   "id": "e4743614",
   "metadata": {},
   "outputs": [],
   "source": [
    "def compute_molecular_weight(aa_seq):\n",
    "    mol_weight = ProteinAnalysis(aa_seq).molecular_weight()\n",
    "    return mol_weight"
   ]
  },
  {
   "cell_type": "markdown",
   "id": "3f5401c8",
   "metadata": {},
   "source": [
    "## 5 ##\n",
    "####### YOUR GC CONTENT ANALYSIS FUNCTION ########\n",
    "#### Write a function that calculates the GC-content (proportion of \"G\" and \"C\") of each DNA sequence and returns this value."
   ]
  },
  {
   "cell_type": "code",
   "execution_count": 11,
   "id": "f2a8fcac",
   "metadata": {},
   "outputs": [],
   "source": [
    "cytb_seqs = get_sequences_from_file(\"penguins_cytb.fasta\") #read the fasta file into \"cytb_seqs\"\n",
    "penguins_df = pd.read_csv(\"penguins_mass.csv\") # Includes only data for body mass \n",
    "species_list = list(penguins_df.species) # list the different species of penguins"
   ]
  },
  {
   "cell_type": "code",
   "execution_count": 12,
   "id": "a13f816c",
   "metadata": {},
   "outputs": [],
   "source": [
    "def GC_content(cytb_seqs):\n",
    "    count = 0\n",
    "    for base in cytb_seqs:\n",
    "        if base == 'G' or base == 'C':\n",
    "            count+=1\n",
    "    perce = count/len(cytb_seqs)*100 # percentatge of GC content\n",
    "    \n",
    "    return (perce)"
   ]
  },
  {
   "cell_type": "markdown",
   "id": "7fb02d8b",
   "metadata": {},
   "source": [
    "## 6 ## \n",
    "#### Add two new columns to the penguin DataFrame: (1) molecular weight and (2) GC content.\n",
    "#### Set the value to 'NaN' to indicate that these cells are currently empty."
   ]
  },
  {
   "cell_type": "code",
   "execution_count": 13,
   "id": "dd193217",
   "metadata": {},
   "outputs": [
    {
     "data": {
      "text/html": [
       "<div>\n",
       "<style scoped>\n",
       "    .dataframe tbody tr th:only-of-type {\n",
       "        vertical-align: middle;\n",
       "    }\n",
       "\n",
       "    .dataframe tbody tr th {\n",
       "        vertical-align: top;\n",
       "    }\n",
       "\n",
       "    .dataframe thead th {\n",
       "        text-align: right;\n",
       "    }\n",
       "</style>\n",
       "<table border=\"1\" class=\"dataframe\">\n",
       "  <thead>\n",
       "    <tr style=\"text-align: right;\">\n",
       "      <th></th>\n",
       "      <th>species</th>\n",
       "      <th>mass</th>\n",
       "    </tr>\n",
       "  </thead>\n",
       "  <tbody>\n",
       "    <tr>\n",
       "      <th>0</th>\n",
       "      <td>Aptenodytes forsteri</td>\n",
       "      <td>28.00</td>\n",
       "    </tr>\n",
       "    <tr>\n",
       "      <th>1</th>\n",
       "      <td>Aptenodytes patagonicus</td>\n",
       "      <td>13.40</td>\n",
       "    </tr>\n",
       "    <tr>\n",
       "      <th>2</th>\n",
       "      <td>Eudyptes chrysocome</td>\n",
       "      <td>2.80</td>\n",
       "    </tr>\n",
       "    <tr>\n",
       "      <th>3</th>\n",
       "      <td>Eudyptes chrysolophus</td>\n",
       "      <td>4.50</td>\n",
       "    </tr>\n",
       "    <tr>\n",
       "      <th>4</th>\n",
       "      <td>Eudyptes sclateri</td>\n",
       "      <td>4.25</td>\n",
       "    </tr>\n",
       "    <tr>\n",
       "      <th>5</th>\n",
       "      <td>Eudyptula minor</td>\n",
       "      <td>1.60</td>\n",
       "    </tr>\n",
       "    <tr>\n",
       "      <th>6</th>\n",
       "      <td>Pygoscelis adeliae</td>\n",
       "      <td>4.60</td>\n",
       "    </tr>\n",
       "    <tr>\n",
       "      <th>7</th>\n",
       "      <td>Pygoscelis antarctica</td>\n",
       "      <td>4.10</td>\n",
       "    </tr>\n",
       "    <tr>\n",
       "      <th>8</th>\n",
       "      <td>Pygoscelis papua</td>\n",
       "      <td>6.10</td>\n",
       "    </tr>\n",
       "    <tr>\n",
       "      <th>9</th>\n",
       "      <td>Spheniscus demersus</td>\n",
       "      <td>3.20</td>\n",
       "    </tr>\n",
       "    <tr>\n",
       "      <th>10</th>\n",
       "      <td>Spheniscus humboldti</td>\n",
       "      <td>4.75</td>\n",
       "    </tr>\n",
       "    <tr>\n",
       "      <th>11</th>\n",
       "      <td>Spheniscus magellanicus</td>\n",
       "      <td>3.40</td>\n",
       "    </tr>\n",
       "  </tbody>\n",
       "</table>\n",
       "</div>"
      ],
      "text/plain": [
       "                    species   mass\n",
       "0      Aptenodytes forsteri  28.00\n",
       "1   Aptenodytes patagonicus  13.40\n",
       "2       Eudyptes chrysocome   2.80\n",
       "3     Eudyptes chrysolophus   4.50\n",
       "4         Eudyptes sclateri   4.25\n",
       "5           Eudyptula minor   1.60\n",
       "6        Pygoscelis adeliae   4.60\n",
       "7     Pygoscelis antarctica   4.10\n",
       "8          Pygoscelis papua   6.10\n",
       "9       Spheniscus demersus   3.20\n",
       "10     Spheniscus humboldti   4.75\n",
       "11  Spheniscus magellanicus   3.40"
      ]
     },
     "execution_count": 13,
     "metadata": {},
     "output_type": "execute_result"
    }
   ],
   "source": [
    "penguins_df # view the dataframe "
   ]
  },
  {
   "cell_type": "code",
   "execution_count": 14,
   "id": "05849b98",
   "metadata": {},
   "outputs": [],
   "source": [
    "penguins_df1 = penguins_df.assign(molecular_weight = 'NaN', GC_content='NaN') # adding new columns to the dataframe"
   ]
  },
  {
   "cell_type": "code",
   "execution_count": 15,
   "id": "c28daa4a",
   "metadata": {},
   "outputs": [
    {
     "data": {
      "text/html": [
       "<div>\n",
       "<style scoped>\n",
       "    .dataframe tbody tr th:only-of-type {\n",
       "        vertical-align: middle;\n",
       "    }\n",
       "\n",
       "    .dataframe tbody tr th {\n",
       "        vertical-align: top;\n",
       "    }\n",
       "\n",
       "    .dataframe thead th {\n",
       "        text-align: right;\n",
       "    }\n",
       "</style>\n",
       "<table border=\"1\" class=\"dataframe\">\n",
       "  <thead>\n",
       "    <tr style=\"text-align: right;\">\n",
       "      <th></th>\n",
       "      <th>species</th>\n",
       "      <th>mass</th>\n",
       "      <th>molecular_weight</th>\n",
       "      <th>GC_content</th>\n",
       "    </tr>\n",
       "  </thead>\n",
       "  <tbody>\n",
       "    <tr>\n",
       "      <th>0</th>\n",
       "      <td>Aptenodytes forsteri</td>\n",
       "      <td>28.00</td>\n",
       "      <td>NaN</td>\n",
       "      <td>NaN</td>\n",
       "    </tr>\n",
       "    <tr>\n",
       "      <th>1</th>\n",
       "      <td>Aptenodytes patagonicus</td>\n",
       "      <td>13.40</td>\n",
       "      <td>NaN</td>\n",
       "      <td>NaN</td>\n",
       "    </tr>\n",
       "    <tr>\n",
       "      <th>2</th>\n",
       "      <td>Eudyptes chrysocome</td>\n",
       "      <td>2.80</td>\n",
       "      <td>NaN</td>\n",
       "      <td>NaN</td>\n",
       "    </tr>\n",
       "    <tr>\n",
       "      <th>3</th>\n",
       "      <td>Eudyptes chrysolophus</td>\n",
       "      <td>4.50</td>\n",
       "      <td>NaN</td>\n",
       "      <td>NaN</td>\n",
       "    </tr>\n",
       "    <tr>\n",
       "      <th>4</th>\n",
       "      <td>Eudyptes sclateri</td>\n",
       "      <td>4.25</td>\n",
       "      <td>NaN</td>\n",
       "      <td>NaN</td>\n",
       "    </tr>\n",
       "    <tr>\n",
       "      <th>5</th>\n",
       "      <td>Eudyptula minor</td>\n",
       "      <td>1.60</td>\n",
       "      <td>NaN</td>\n",
       "      <td>NaN</td>\n",
       "    </tr>\n",
       "    <tr>\n",
       "      <th>6</th>\n",
       "      <td>Pygoscelis adeliae</td>\n",
       "      <td>4.60</td>\n",
       "      <td>NaN</td>\n",
       "      <td>NaN</td>\n",
       "    </tr>\n",
       "    <tr>\n",
       "      <th>7</th>\n",
       "      <td>Pygoscelis antarctica</td>\n",
       "      <td>4.10</td>\n",
       "      <td>NaN</td>\n",
       "      <td>NaN</td>\n",
       "    </tr>\n",
       "    <tr>\n",
       "      <th>8</th>\n",
       "      <td>Pygoscelis papua</td>\n",
       "      <td>6.10</td>\n",
       "      <td>NaN</td>\n",
       "      <td>NaN</td>\n",
       "    </tr>\n",
       "    <tr>\n",
       "      <th>9</th>\n",
       "      <td>Spheniscus demersus</td>\n",
       "      <td>3.20</td>\n",
       "      <td>NaN</td>\n",
       "      <td>NaN</td>\n",
       "    </tr>\n",
       "    <tr>\n",
       "      <th>10</th>\n",
       "      <td>Spheniscus humboldti</td>\n",
       "      <td>4.75</td>\n",
       "      <td>NaN</td>\n",
       "      <td>NaN</td>\n",
       "    </tr>\n",
       "    <tr>\n",
       "      <th>11</th>\n",
       "      <td>Spheniscus magellanicus</td>\n",
       "      <td>3.40</td>\n",
       "      <td>NaN</td>\n",
       "      <td>NaN</td>\n",
       "    </tr>\n",
       "  </tbody>\n",
       "</table>\n",
       "</div>"
      ],
      "text/plain": [
       "                    species   mass molecular_weight GC_content\n",
       "0      Aptenodytes forsteri  28.00              NaN        NaN\n",
       "1   Aptenodytes patagonicus  13.40              NaN        NaN\n",
       "2       Eudyptes chrysocome   2.80              NaN        NaN\n",
       "3     Eudyptes chrysolophus   4.50              NaN        NaN\n",
       "4         Eudyptes sclateri   4.25              NaN        NaN\n",
       "5           Eudyptula minor   1.60              NaN        NaN\n",
       "6        Pygoscelis adeliae   4.60              NaN        NaN\n",
       "7     Pygoscelis antarctica   4.10              NaN        NaN\n",
       "8          Pygoscelis papua   6.10              NaN        NaN\n",
       "9       Spheniscus demersus   3.20              NaN        NaN\n",
       "10     Spheniscus humboldti   4.75              NaN        NaN\n",
       "11  Spheniscus magellanicus   3.40              NaN        NaN"
      ]
     },
     "execution_count": 15,
     "metadata": {},
     "output_type": "execute_result"
    }
   ],
   "source": [
    "penguins_df1 # view new dataframe \"penguins_df1\""
   ]
  },
  {
   "cell_type": "markdown",
   "id": "b9953e4b",
   "metadata": {},
   "source": [
    "## 7 ##\n",
    "#### Write a for-loop that translates each sequence and also gets molecular weight and computes the GC content\n",
    "#### of each translated sequence and adds those data to DataFrame"
   ]
  },
  {
   "cell_type": "code",
   "execution_count": 16,
   "id": "af741add",
   "metadata": {},
   "outputs": [],
   "source": [
    "for key, value in cytb_seqs.items(): \n",
    "    aa_seq = translate_function(value)\n",
    "    molecular_weight = compute_molecular_weight(aa_seq)\n",
    "    GC_perce = GC_content(value)\n",
    "    \n",
    "    for index, row in penguins_df1.iterrows():\n",
    "        if row['species'] == key:\n",
    "            penguins_df1.loc[index, 'molecular_weight'] = molecular_weight\n",
    "            penguins_df1.loc[index, 'GC_content'] = GC_perce"
   ]
  },
  {
   "cell_type": "code",
   "execution_count": 17,
   "id": "68792959",
   "metadata": {},
   "outputs": [
    {
     "data": {
      "text/html": [
       "<div>\n",
       "<style scoped>\n",
       "    .dataframe tbody tr th:only-of-type {\n",
       "        vertical-align: middle;\n",
       "    }\n",
       "\n",
       "    .dataframe tbody tr th {\n",
       "        vertical-align: top;\n",
       "    }\n",
       "\n",
       "    .dataframe thead th {\n",
       "        text-align: right;\n",
       "    }\n",
       "</style>\n",
       "<table border=\"1\" class=\"dataframe\">\n",
       "  <thead>\n",
       "    <tr style=\"text-align: right;\">\n",
       "      <th></th>\n",
       "      <th>species</th>\n",
       "      <th>mass</th>\n",
       "      <th>molecular_weight</th>\n",
       "      <th>GC_content</th>\n",
       "    </tr>\n",
       "  </thead>\n",
       "  <tbody>\n",
       "    <tr>\n",
       "      <th>0</th>\n",
       "      <td>Aptenodytes forsteri</td>\n",
       "      <td>28.00</td>\n",
       "      <td>42459.6021</td>\n",
       "      <td>48.381452</td>\n",
       "    </tr>\n",
       "    <tr>\n",
       "      <th>1</th>\n",
       "      <td>Aptenodytes patagonicus</td>\n",
       "      <td>13.40</td>\n",
       "      <td>42563.7067</td>\n",
       "      <td>49.693788</td>\n",
       "    </tr>\n",
       "    <tr>\n",
       "      <th>2</th>\n",
       "      <td>Eudyptes chrysocome</td>\n",
       "      <td>2.80</td>\n",
       "      <td>42475.5753</td>\n",
       "      <td>51.181102</td>\n",
       "    </tr>\n",
       "    <tr>\n",
       "      <th>3</th>\n",
       "      <td>Eudyptes chrysolophus</td>\n",
       "      <td>4.50</td>\n",
       "      <td>42445.5493</td>\n",
       "      <td>50.918635</td>\n",
       "    </tr>\n",
       "    <tr>\n",
       "      <th>4</th>\n",
       "      <td>Eudyptes sclateri</td>\n",
       "      <td>4.25</td>\n",
       "      <td>42475.5753</td>\n",
       "      <td>50.831146</td>\n",
       "    </tr>\n",
       "    <tr>\n",
       "      <th>5</th>\n",
       "      <td>Eudyptula minor</td>\n",
       "      <td>1.60</td>\n",
       "      <td>42491.6408</td>\n",
       "      <td>49.256343</td>\n",
       "    </tr>\n",
       "    <tr>\n",
       "      <th>6</th>\n",
       "      <td>Pygoscelis adeliae</td>\n",
       "      <td>4.60</td>\n",
       "      <td>42458.614</td>\n",
       "      <td>49.081365</td>\n",
       "    </tr>\n",
       "    <tr>\n",
       "      <th>7</th>\n",
       "      <td>Pygoscelis antarctica</td>\n",
       "      <td>4.10</td>\n",
       "      <td>42404.5423</td>\n",
       "      <td>47.769029</td>\n",
       "    </tr>\n",
       "    <tr>\n",
       "      <th>8</th>\n",
       "      <td>Pygoscelis papua</td>\n",
       "      <td>6.10</td>\n",
       "      <td>42595.8759</td>\n",
       "      <td>47.156605</td>\n",
       "    </tr>\n",
       "    <tr>\n",
       "      <th>9</th>\n",
       "      <td>Spheniscus demersus</td>\n",
       "      <td>3.20</td>\n",
       "      <td>42431.549</td>\n",
       "      <td>48.293963</td>\n",
       "    </tr>\n",
       "    <tr>\n",
       "      <th>10</th>\n",
       "      <td>Spheniscus humboldti</td>\n",
       "      <td>4.75</td>\n",
       "      <td>42399.552</td>\n",
       "      <td>49.256343</td>\n",
       "    </tr>\n",
       "    <tr>\n",
       "      <th>11</th>\n",
       "      <td>Spheniscus magellanicus</td>\n",
       "      <td>3.40</td>\n",
       "      <td>42459.6021</td>\n",
       "      <td>48.206474</td>\n",
       "    </tr>\n",
       "  </tbody>\n",
       "</table>\n",
       "</div>"
      ],
      "text/plain": [
       "                    species   mass molecular_weight GC_content\n",
       "0      Aptenodytes forsteri  28.00       42459.6021  48.381452\n",
       "1   Aptenodytes patagonicus  13.40       42563.7067  49.693788\n",
       "2       Eudyptes chrysocome   2.80       42475.5753  51.181102\n",
       "3     Eudyptes chrysolophus   4.50       42445.5493  50.918635\n",
       "4         Eudyptes sclateri   4.25       42475.5753  50.831146\n",
       "5           Eudyptula minor   1.60       42491.6408  49.256343\n",
       "6        Pygoscelis adeliae   4.60        42458.614  49.081365\n",
       "7     Pygoscelis antarctica   4.10       42404.5423  47.769029\n",
       "8          Pygoscelis papua   6.10       42595.8759  47.156605\n",
       "9       Spheniscus demersus   3.20        42431.549  48.293963\n",
       "10     Spheniscus humboldti   4.75        42399.552  49.256343\n",
       "11  Spheniscus magellanicus   3.40       42459.6021  48.206474"
      ]
     },
     "execution_count": 17,
     "metadata": {},
     "output_type": "execute_result"
    }
   ],
   "source": [
    "penguins_df1"
   ]
  },
  {
   "cell_type": "markdown",
   "id": "1f8b43f6",
   "metadata": {},
   "source": [
    "#### 8\n",
    "#### Plot a bar-chart of the mass with the x-axes labeled with species names.\n",
    "#### *Q1* What is the smallest penguin species? \n",
    "#### *Q2* What is the geographical range of this species?\n"
   ]
  },
  {
   "cell_type": "code",
   "execution_count": 18,
   "id": "08dc4973",
   "metadata": {},
   "outputs": [],
   "source": [
    "plot_dims = (14, 9)"
   ]
  },
  {
   "cell_type": "code",
   "execution_count": 19,
   "id": "b2d07460",
   "metadata": {},
   "outputs": [
    {
     "data": {
      "text/plain": [
       "<seaborn.axisgrid.FacetGrid at 0x1eda5458400>"
      ]
     },
     "execution_count": 19,
     "metadata": {},
     "output_type": "execute_result"
    },
    {
     "data": {
      "image/png": "[encoded data removed]",
      "text/plain": [
       "<Figure size 1080x360 with 1 Axes>"
      ]
     },
     "metadata": {
      "needs_background": "light"
     },
     "output_type": "display_data"
    }
   ],
   "source": [
    "species_mass = sns.catplot(data=penguins_df, x=\"species\", y=\"mass\", kind=\"bar\", aspect=3, palette='colorblind').set(title='Mass of each penguin species')\n",
    "species_mass.set_xticklabels(rotation=60) #rotates the x axis labels #https://www.geeksforgeeks.org/rotate-axis-tick-labels-in-seaborn-and-matplotlib/"
   ]
  },
  {
   "cell_type": "code",
   "execution_count": 20,
   "id": "3e0b8b64",
   "metadata": {},
   "outputs": [],
   "source": [
    "#smallest penguin species = Eudyptula minor"
   ]
  },
  {
   "cell_type": "markdown",
   "id": "f246ef83",
   "metadata": {},
   "source": [
    "#### 9 \n",
    "## Plot a visualization of the molecular weight (y-axis) as a function of GC-content (x-axis)."
   ]
  },
  {
   "cell_type": "code",
   "execution_count": 21,
   "id": "d810c41b",
   "metadata": {},
   "outputs": [
    {
     "name": "stderr",
     "output_type": "stream",
     "text": [
      "C:\\Users\\beula\\anaconda3\\lib\\site-packages\\seaborn\\_decorators.py:36: FutureWarning: Pass the following variables as keyword args: x, y. From version 0.12, the only valid positional argument will be `data`, and passing other arguments without an explicit keyword will result in an error or misinterpretation.\n",
      "  warnings.warn(\n"
     ]
    },
    {
     "data": {
      "text/plain": [
       "<seaborn.axisgrid.FacetGrid at 0x1eda54588e0>"
      ]
     },
     "execution_count": 21,
     "metadata": {},
     "output_type": "execute_result"
    },
    {
     "data": {
      "image/png": "[encoded data removed]",
      "text/plain": [
       "<Figure size 1171.72x504 with 1 Axes>"
      ]
     },
     "metadata": {
      "needs_background": "light"
     },
     "output_type": "display_data"
    }
   ],
   "source": [
    "import matplotlib.pyplot as plt\n",
    "import seaborn as sns\n",
    "get_ipython().run_line_magic('matplotlib', 'inline')\n",
    "sns.lmplot( 'GC_content','molecular_weight', data = penguins_df1, fit_reg=False, height=7, aspect=2.0, hue=\"species\").set(title='Molecular weight vs GC content in penguin species')"
   ]
  },
  {
   "cell_type": "markdown",
   "id": "b1d0cd24",
   "metadata": {},
   "source": [
    "#### 10\n",
    "##### Writing the new dataframe with molecular weight and GC content"
   ]
  },
  {
   "cell_type": "code",
   "execution_count": 22,
   "id": "4ca25901",
   "metadata": {},
   "outputs": [],
   "source": [
    "penguins_df1.to_csv(\"penguins_mass_cytb.csv\", index = False) "
   ]
  }
 ],
 "metadata": {
  "kernelspec": {
   "display_name": "Python 3 (ipykernel)",
   "language": "python",
   "name": "python3"
  },
  "language_info": {
   "codemirror_mode": {
    "name": "ipython",
    "version": 3
   },
   "file_extension": ".py",
   "mimetype": "text/x-python",
   "name": "python",
   "nbconvert_exporter": "python",
   "pygments_lexer": "ipython3",
   "version": "3.9.7"
  }
 },
 "nbformat": 4,
 "nbformat_minor": 5
}
